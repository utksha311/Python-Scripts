{
 "cells": [
  {
   "cell_type": "code",
   "execution_count": 97,
   "id": "1aab1bdb",
   "metadata": {},
   "outputs": [],
   "source": [
    "%matplotlib inline \n",
    "#this line above prepares IPython notebook for working with matplotlib\n",
    "\n",
    "# That way we can call methods like plt.plot() instead of matplotlib.pyplot.plot().\n",
    "\n",
    "import numpy as np # imports a fast numerical programming library\n",
    "import scipy as sp #imports stats functions, amongst other things\n",
    "import matplotlib as mpl # this actually imports matplotlib\n",
    "import matplotlib.cm as cm #allows us easy access to colormaps\n",
    "import matplotlib.pyplot as plt #sets up plotting under plt\n",
    "import pandas as pd #lets us handle data as dataframes\n",
    "#sets up pandas table display\n",
    "pd.set_option('display.width', 500)\n",
    "pd.set_option('display.max_columns', 100)\n",
    "pd.set_option('display.notebook_repr_html', True)\n",
    "\n",
    "from IPython.display import display, HTML\n",
    "import time"
   ]
  },
  {
   "cell_type": "code",
   "execution_count": 98,
   "id": "78c8b626",
   "metadata": {},
   "outputs": [],
   "source": [
    "# Define a list of negative words\n",
    "#Make a list of all the negative words to be used in your script\n",
    "\n",
    "negative_words = ['sold out', 'bruised', 'mold', 'card reader', 'no show', 'card swiper', 'stole','dripping','construction','EBT','error','square','totil','totilpay','broken','shelf','tasted horrible','only','unaware','connect','clean','blocking','transaction','shut down','side door','flimsy','stuck','splitting','damaged','bent','scarred','door','running out','dollars','login']\n",
    "\n"
   ]
  },
  {
   "cell_type": "code",
   "execution_count": 99,
   "id": "6e70bce5",
   "metadata": {},
   "outputs": [],
   "source": [
    "## Read the Excel file ##\n",
    "df_data=pd.read_excel('<file_name>.xlsx', sheet_name='<Sheet>')\n",
    "\n"
   ]
  },
  {
   "cell_type": "code",
   "execution_count": 100,
   "id": "003e0674",
   "metadata": {},
   "outputs": [],
   "source": [
    "# extract the column with issue descriptions\n",
    "issue_column = df_data.loc[:, '<column_name>'].dropna()\n",
    "\n"
   ]
  },
  {
   "cell_type": "code",
   "execution_count": 101,
   "id": "98c5c168",
   "metadata": {},
   "outputs": [],
   "source": [
    "# tokenize the issue descriptions and remove stop words\n",
    "stop_words = set(stopwords.words('english'))\n",
    "df_issues = pd.DataFrame(issue_column.apply(lambda x: nltk.word_tokenize(x)))\n",
    "df_issues.columns = ['tokens']\n",
    "df_issues['tokens'] = df_issues['tokens'].apply(lambda x: [word.lower() for word in x if word.lower() not in stop_words])\n",
    "\n"
   ]
  },
  {
   "cell_type": "code",
   "execution_count": 109,
   "id": "0bcec356",
   "metadata": {},
   "outputs": [],
   "source": [
    "# create a list of negative words from the tokens\n",
    "negative_word_list = [word for tokens in df_issues['tokens'] for word in tokens if word in negative_words]\n",
    "\n",
    "# create a frequency distribution of the negative words\n",
    "negative_word_freq = nltk.FreqDist(negative_word_list)\n",
    "\n",
    "# extract the top 15 most common negative words\n",
    "top_negative_words = negative_word_freq.most_common(15)\n",
    "\n"
   ]
  },
  {
   "cell_type": "code",
   "execution_count": 110,
   "id": "80196ddd",
   "metadata": {},
   "outputs": [
    {
     "data": {
      "image/png": "[encoded data removed]",
      "text/plain": [
       "<Figure size 720x432 with 1 Axes>"
      ]
     },
     "metadata": {
      "needs_background": "light"
     },
     "output_type": "display_data"
    }
   ],
   "source": [
    "# create a bar chart of the top words\n",
    "fig, ax = plt.subplots(figsize=(10, 6))\n",
    "ax.bar(range(len(top_negative_words)), [val[1] for val in top_negative_words], align='center', color=\"#6699cc\")\n",
    "ax.set_xticks(range(len(top_negative_words)))\n",
    "ax.set_xticklabels([val[0] for val in top_negative_words], rotation=45, fontsize=12)\n",
    "ax.set_yticks(range(0, max([val[1] for val in top_negative_words])+1, 2))\n",
    "ax.set_ylabel('Frequency Count', fontsize=12)\n",
    "ax.set_title('Top 15 Negative Words', fontsize=16)\n",
    "\n",
    "# add frequency counts on the bars\n",
    "for i, v in enumerate([val[1] for val in top_negative_words]):\n",
    "    ax.text(i, v, str(v), color='black', ha='center', fontsize=12)\n",
    "\n",
    "plt.subplots_adjust(bottom=0.2, top=0.9, left=0.1, right=0.9, wspace=0.2, hspace=0.5)\n",
    "plt.show()"
   ]
  },
  {
   "cell_type": "code",
   "execution_count": null,
   "id": "4f8b779c",
   "metadata": {},
   "outputs": [],
   "source": []
  },
  {
   "cell_type": "code",
   "execution_count": null,
   "id": "27127896",
   "metadata": {},
   "outputs": [],
   "source": []
  },
  {
   "cell_type": "code",
   "execution_count": null,
   "id": "fd88a685",
   "metadata": {},
   "outputs": [],
   "source": []
  },
  {
   "cell_type": "code",
   "execution_count": null,
   "id": "c8daf444",
   "metadata": {},
   "outputs": [],
   "source": []
  },
  {
   "cell_type": "code",
   "execution_count": null,
   "id": "663e13dc",
   "metadata": {},
   "outputs": [],
   "source": []
  },
  {
   "cell_type": "code",
   "execution_count": null,
   "id": "917e0bf8",
   "metadata": {},
   "outputs": [],
   "source": []
  },
  {
   "cell_type": "code",
   "execution_count": null,
   "id": "9fea3c5b",
   "metadata": {},
   "outputs": [],
   "source": []
  },
  {
   "cell_type": "code",
   "execution_count": null,
   "id": "bec508cd",
   "metadata": {},
   "outputs": [],
   "source": []
  },
  {
   "cell_type": "code",
   "execution_count": null,
   "id": "4c52123f",
   "metadata": {},
   "outputs": [],
   "source": []
  },
  {
   "cell_type": "code",
   "execution_count": null,
   "id": "d2f5c225",
   "metadata": {},
   "outputs": [],
   "source": []
  },
  {
   "cell_type": "code",
   "execution_count": null,
   "id": "ece50933",
   "metadata": {},
   "outputs": [],
   "source": []
  }
 ],
 "metadata": {
  "kernelspec": {
   "display_name": "Python 3 (ipykernel)",
   "language": "python",
   "name": "python3"
  },
  "language_info": {
   "codemirror_mode": {
    "name": "ipython",
    "version": 3
   },
   "file_extension": ".py",
   "mimetype": "text/x-python",
   "name": "python",
   "nbconvert_exporter": "python",
   "pygments_lexer": "ipython3",
   "version": "3.9.12"
  }
 },
 "nbformat": 4,
 "nbformat_minor": 5
}
